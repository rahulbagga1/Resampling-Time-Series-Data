{
 "cells": [
  {
   "cell_type": "markdown",
   "metadata": {},
   "source": [
    "# Downscaling the Data"
   ]
  },
  {
   "cell_type": "markdown",
   "metadata": {},
   "source": [
    "Rules for `timeseries`:\n",
    ">   \n",
    "    B         business day frequency\n",
    "    C         custom business day frequency (experimental)\n",
    "    D         calendar day frequency\n",
    "    W         weekly frequency\n",
    "    M         month end frequency\n",
    "    SM        semi-month end frequency (15th and end of month)\n",
    "    BM        business month end frequency\n",
    "    CBM       custom business month end frequency\n",
    "    MS        month start frequency\n",
    "    SMS       semi-month start frequency (1st and 15th)\n",
    "    BMS       business month start frequency\n",
    "    CBMS      custom business month start frequency\n",
    "    Q         quarter end frequency\n",
    "    BQ        business quarter endfrequency\n",
    "    QS        quarter start frequency\n",
    "    BQS       business quarter start frequency\n",
    "    A         year end frequency\n",
    "    BA, BY    business year end frequency\n",
    "    AS, YS    year start frequency\n",
    "    BAS, BYS  business year start frequency\n",
    "    BH        business hour frequency\n",
    "    H         hourly frequency\n",
    "    T, min    minutely frequency\n",
    "    S         secondly frequency\n",
    "    L, ms     milliseconds\n",
    "    U         microseconds\n",
    "    N, us     nanoseconds"
   ]
  },
  {
   "cell_type": "markdown",
   "metadata": {},
   "source": [
    "Documentation: <a href=\"http://pandas.pydata.org/pandas-docs/stable/timeseries.html\">Timeseries</a>"
   ]
  },
  {
   "cell_type": "markdown",
   "metadata": {},
   "source": [
    "**Importing Libraries**"
   ]
  },
  {
   "cell_type": "code",
   "execution_count": 1,
   "metadata": {},
   "outputs": [],
   "source": [
    "import numpy as np # linear algebra\n",
    "import pandas as pd # data processing, CSV file I/O (e.g. pd.read_csv)"
   ]
  },
  {
   "cell_type": "markdown",
   "metadata": {},
   "source": [
    "**Importing Data**"
   ]
  },
  {
   "cell_type": "code",
   "execution_count": null,
   "metadata": {},
   "outputs": [],
   "source": [
    "df = pd.read_csv('data.csv', names=['x', 'y', 'z', 'timestamp', 'activity', 'user'])\n",
    "df.set_index('timestamp', inplace=True)"
   ]
  },
  {
   "cell_type": "markdown",
   "metadata": {},
   "source": [
    "**Converting Index to TimeSeriesIndex**"
   ]
  },
  {
   "cell_type": "code",
   "execution_count": null,
   "metadata": {},
   "outputs": [],
   "source": [
    "df.index = pd.to_datetime(df.index)"
   ]
  },
  {
   "cell_type": "markdown",
   "metadata": {},
   "source": [
    "**Resample returns resample object**"
   ]
  },
  {
   "cell_type": "markdown",
   "metadata": {},
   "source": [
    "* We are doing average of values in 100ms.\n",
    "* Previously we had 100 values in each second which means 1 value for each millisecond.\n",
    "* Now there are 1 value for every 100ms and in total there would be around 10 values in one second."
   ]
  },
  {
   "cell_type": "code",
   "execution_count": null,
   "metadata": {},
   "outputs": [],
   "source": [
    "resampled = df.resample(\"100ms\")\n",
    "downsampled = resampled.mean()"
   ]
  },
  {
   "cell_type": "code",
   "execution_count": null,
   "metadata": {},
   "outputs": [],
   "source": [
    "downsampled.head()"
   ]
  }
 ],
 "metadata": {
  "kernelspec": {
   "display_name": "Python 3",
   "language": "python",
   "name": "python3"
  },
  "language_info": {
   "codemirror_mode": {
    "name": "ipython",
    "version": 3
   },
   "file_extension": ".py",
   "mimetype": "text/x-python",
   "name": "python",
   "nbconvert_exporter": "python",
   "pygments_lexer": "ipython3",
   "version": "3.7.1"
  }
 },
 "nbformat": 4,
 "nbformat_minor": 2
}
